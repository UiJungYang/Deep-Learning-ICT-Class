{
 "cells": [
  {
   "cell_type": "raw",
   "id": "28810b2b-0695-40ca-af14-7d250f1e5971",
   "metadata": {},
   "source": [
    "사용 데이터: dataset/ThoraricSurgery.csv 이 데이터는 폴란드 브로츠와프 의과대학에서 2013년 공개한 폐암 수술 환자의 수술 전 진단 데이터와 수술 후 생존 결과를 기록한 실제 의료 기록 데이터."
   ]
  },
  {
   "cell_type": "code",
   "execution_count": 3,
   "id": "769f7f57-a5db-4479-b947-c545b8cdc1e5",
   "metadata": {},
   "outputs": [],
   "source": [
    "# !pip install tensorflow   # ==3.80 이렇게 버전을 안써주면 무조건 최신버전"
   ]
  },
  {
   "cell_type": "code",
   "execution_count": 19,
   "id": "4445536c-dce8-47a4-b342-123ea8c6d85c",
   "metadata": {},
   "outputs": [],
   "source": [
    "# 딥러닝을 구동하는 데 필요한 라이브러리를 불러옵니다.\n",
    "from tensorflow.keras.models import Sequential\n",
    "from tensorflow.keras.layers import Dense, Input\n",
    "import numpy as np"
   ]
  },
  {
   "cell_type": "code",
   "execution_count": 3,
   "id": "8cab574b-4daf-4e2a-9733-a2990e92af87",
   "metadata": {},
   "outputs": [
    {
     "data": {
      "text/plain": [
       "array([[ 1.  ,  2.88,  2.16, ...,  0.  , 60.  ,  0.  ],\n",
       "       [ 2.  ,  3.4 ,  1.88, ...,  0.  , 51.  ,  0.  ],\n",
       "       [ 2.  ,  2.76,  2.08, ...,  0.  , 59.  ,  0.  ],\n",
       "       ...,\n",
       "       [ 2.  ,  3.04,  2.08, ...,  0.  , 52.  ,  0.  ],\n",
       "       [ 2.  ,  1.96,  1.68, ...,  0.  , 79.  ,  0.  ],\n",
       "       [ 2.  ,  4.72,  3.56, ...,  0.  , 51.  ,  0.  ]])"
      ]
     },
     "execution_count": 3,
     "metadata": {},
     "output_type": "execute_result"
    }
   ],
   "source": [
    "# 준비된 수술 환자 데이터를 불러옵니다.\n",
    "Data_set = np.loadtxt(\"./data/ThoraricSurgery3.csv\", delimiter=\",\")\n",
    "Data_set"
   ]
  },
  {
   "cell_type": "code",
   "execution_count": 7,
   "id": "ece93c1c-b336-4909-9954-cd5c516508c6",
   "metadata": {},
   "outputs": [
    {
     "data": {
      "text/plain": [
       "(470, 17)"
      ]
     },
     "execution_count": 7,
     "metadata": {},
     "output_type": "execute_result"
    }
   ],
   "source": [
    "np.shape(Data_set)   # 배열 인덱스는 0부터 시작, Column: 0~16"
   ]
  },
  {
   "cell_type": "code",
   "execution_count": 11,
   "id": "21aefd40-e1fb-4e59-aebe-4132886ae907",
   "metadata": {},
   "outputs": [],
   "source": [
    "x = Data_set[:, 0:16]  # 환자의 진찰 기록을 x로 지정합니다.\n",
    "y = Data_set[:, 16]    # 수술 1년 후 사망/생존 여부를 y로 지정합니다."
   ]
  },
  {
   "cell_type": "code",
   "execution_count": 29,
   "id": "32663f7d-73ad-4c28-abb2-70841dcde3f4",
   "metadata": {},
   "outputs": [],
   "source": [
    "# 딥러닝 모델의 구조를 결정합니다.\n",
    "#model = Sequential()\n",
    "#model.add(Dense(30,input_dim=16, activation='relu')) # -> 여기서 30은 hidden layer. Why 30? 이 값은 임의의 값. 구조를 엔지니어들이 정하는 것. 중간 단계에서 활성화 함수는 여기서는 Relu함수\n",
    "#model.add(Dense(1,activation='sigmoid'))  #-> sigmoid 함수를 썼단 이야기는: 끝에 0 아니면 1로 y 값이 전부 만들어져 있을 것이고, 분류문제일 것이라고 판단.  "
   ]
  },
  {
   "cell_type": "code",
   "execution_count": 21,
   "id": "73db13ec-d68c-4841-b6f1-ee5087787329",
   "metadata": {},
   "outputs": [],
   "source": [
    "model = Sequential()\n",
    "model.add(Input(shape=(16,)))\n",
    "model.add(Dense(30, activation='relu')) \n",
    "model.add(Dense(1,activation='sigmoid'))"
   ]
  },
  {
   "cell_type": "code",
   "execution_count": 23,
   "id": "c3af7ad6-0c44-4bee-a69a-49e147457cdf",
   "metadata": {},
   "outputs": [
    {
     "name": "stdout",
     "output_type": "stream",
     "text": [
      "Epoch 1/10\n",
      "\u001b[1m24/24\u001b[0m \u001b[32m━━━━━━━━━━━━━━━━━━━━\u001b[0m\u001b[37m\u001b[0m \u001b[1m2s\u001b[0m 5ms/step - accuracy: 0.6629 - loss: 0.6984\n",
      "Epoch 2/10\n",
      "\u001b[1m24/24\u001b[0m \u001b[32m━━━━━━━━━━━━━━━━━━━━\u001b[0m\u001b[37m\u001b[0m \u001b[1m0s\u001b[0m 3ms/step - accuracy: 0.8497 - loss: 0.4257\n",
      "Epoch 3/10\n",
      "\u001b[1m24/24\u001b[0m \u001b[32m━━━━━━━━━━━━━━━━━━━━\u001b[0m\u001b[37m\u001b[0m \u001b[1m0s\u001b[0m 4ms/step - accuracy: 0.8501 - loss: 0.4362\n",
      "Epoch 4/10\n",
      "\u001b[1m24/24\u001b[0m \u001b[32m━━━━━━━━━━━━━━━━━━━━\u001b[0m\u001b[37m\u001b[0m \u001b[1m0s\u001b[0m 3ms/step - accuracy: 0.8530 - loss: 0.4108\n",
      "Epoch 5/10\n",
      "\u001b[1m24/24\u001b[0m \u001b[32m━━━━━━━━━━━━━━━━━━━━\u001b[0m\u001b[37m\u001b[0m \u001b[1m0s\u001b[0m 3ms/step - accuracy: 0.8577 - loss: 0.3998\n",
      "Epoch 6/10\n",
      "\u001b[1m24/24\u001b[0m \u001b[32m━━━━━━━━━━━━━━━━━━━━\u001b[0m\u001b[37m\u001b[0m \u001b[1m0s\u001b[0m 3ms/step - accuracy: 0.8536 - loss: 0.4155\n",
      "Epoch 7/10\n",
      "\u001b[1m24/24\u001b[0m \u001b[32m━━━━━━━━━━━━━━━━━━━━\u001b[0m\u001b[37m\u001b[0m \u001b[1m0s\u001b[0m 3ms/step - accuracy: 0.8490 - loss: 0.4038\n",
      "Epoch 8/10\n",
      "\u001b[1m24/24\u001b[0m \u001b[32m━━━━━━━━━━━━━━━━━━━━\u001b[0m\u001b[37m\u001b[0m \u001b[1m0s\u001b[0m 2ms/step - accuracy: 0.8475 - loss: 0.4187\n",
      "Epoch 9/10\n",
      "\u001b[1m24/24\u001b[0m \u001b[32m━━━━━━━━━━━━━━━━━━━━\u001b[0m\u001b[37m\u001b[0m \u001b[1m0s\u001b[0m 2ms/step - accuracy: 0.8556 - loss: 0.4072\n",
      "Epoch 10/10\n",
      "\u001b[1m24/24\u001b[0m \u001b[32m━━━━━━━━━━━━━━━━━━━━\u001b[0m\u001b[37m\u001b[0m \u001b[1m0s\u001b[0m 3ms/step - accuracy: 0.8250 - loss: 0.4640\n"
     ]
    },
    {
     "data": {
      "text/plain": [
       "<keras.src.callbacks.history.History at 0x1535cb4fdc0>"
      ]
     },
     "execution_count": 23,
     "metadata": {},
     "output_type": "execute_result"
    }
   ],
   "source": [
    "# 딥러닝 모델을 실행합니다.\n",
    "model.compile(loss='binary_crossentropy', optimizer='adam', metrics=['accuracy'])   # 분류문제에서는 Binary_crossentropy가 효과적이다-!, Optimizer는 경사하강법의 종류를 얘기하는 것 \n",
    "model.fit(x,y, epochs=10, batch_size=20)"
   ]
  },
  {
   "cell_type": "code",
   "execution_count": 25,
   "id": "c8bf923a-099f-4584-ae46-430ebb0fe2e8",
   "metadata": {},
   "outputs": [
    {
     "data": {
      "text/plain": [
       "23.5"
      ]
     },
     "execution_count": 25,
     "metadata": {},
     "output_type": "execute_result"
    }
   ],
   "source": [
    "470/20   # 반올람해서 24개"
   ]
  },
  {
   "cell_type": "code",
   "execution_count": 27,
   "id": "7f78be2b-c762-4191-8456-eb1744ea4fdf",
   "metadata": {},
   "outputs": [
    {
     "name": "stdout",
     "output_type": "stream",
     "text": [
      "\u001b[1m15/15\u001b[0m \u001b[32m━━━━━━━━━━━━━━━━━━━━\u001b[0m\u001b[37m\u001b[0m \u001b[1m0s\u001b[0m 3ms/step - accuracy: 0.8313 - loss: 0.4608  \n",
      "\n",
      " Accuracy: 0.8511\n"
     ]
    }
   ],
   "source": [
    "# 결과 출력\n",
    "print(\"\\n Accuracy: %.4f\" % (model.evaluate(x,y)[1]))"
   ]
  },
  {
   "cell_type": "raw",
   "id": "aa9251da-8ce3-4c61-a549-d4b958b7974f",
   "metadata": {},
   "source": [
    "결과 : 정확도 85.11% (10명중 9명정도는 맞춤)"
   ]
  }
 ],
 "metadata": {
  "kernelspec": {
   "display_name": "python 310",
   "language": "python",
   "name": "python310"
  },
  "language_info": {
   "codemirror_mode": {
    "name": "ipython",
    "version": 3
   },
   "file_extension": ".py",
   "mimetype": "text/x-python",
   "name": "python",
   "nbconvert_exporter": "python",
   "pygments_lexer": "ipython3",
   "version": "3.10.15"
  }
 },
 "nbformat": 4,
 "nbformat_minor": 5
}
